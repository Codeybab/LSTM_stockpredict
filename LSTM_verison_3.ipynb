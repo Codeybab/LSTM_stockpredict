{
 "cells": [
  {
   "cell_type": "code",
   "execution_count": null,
   "metadata": {},
   "outputs": [],
   "source": []
  },
  {
   "cell_type": "code",
   "execution_count": 43,
   "metadata": {},
   "outputs": [
    {
     "data": {
      "text/html": [
       "<div>\n",
       "<style scoped>\n",
       "    .dataframe tbody tr th:only-of-type {\n",
       "        vertical-align: middle;\n",
       "    }\n",
       "\n",
       "    .dataframe tbody tr th {\n",
       "        vertical-align: top;\n",
       "    }\n",
       "\n",
       "    .dataframe thead th {\n",
       "        text-align: right;\n",
       "    }\n",
       "</style>\n",
       "<table border=\"1\" class=\"dataframe\">\n",
       "  <thead>\n",
       "    <tr style=\"text-align: right;\">\n",
       "      <th></th>\n",
       "      <th>Date</th>\n",
       "      <th>Open</th>\n",
       "      <th>High</th>\n",
       "      <th>Low</th>\n",
       "      <th>Close</th>\n",
       "    </tr>\n",
       "  </thead>\n",
       "  <tbody>\n",
       "    <tr>\n",
       "      <th>0</th>\n",
       "      <td>7/8/2016</td>\n",
       "      <td>1360.45</td>\n",
       "      <td>1370.39</td>\n",
       "      <td>1335.47</td>\n",
       "      <td>1366.33</td>\n",
       "    </tr>\n",
       "    <tr>\n",
       "      <th>1</th>\n",
       "      <td>7/11/2016</td>\n",
       "      <td>1369.70</td>\n",
       "      <td>1375.34</td>\n",
       "      <td>1350.90</td>\n",
       "      <td>1355.40</td>\n",
       "    </tr>\n",
       "    <tr>\n",
       "      <th>2</th>\n",
       "      <td>7/12/2016</td>\n",
       "      <td>1355.38</td>\n",
       "      <td>1357.86</td>\n",
       "      <td>1330.41</td>\n",
       "      <td>1333.10</td>\n",
       "    </tr>\n",
       "    <tr>\n",
       "      <th>3</th>\n",
       "      <td>7/13/2016</td>\n",
       "      <td>1333.05</td>\n",
       "      <td>1345.41</td>\n",
       "      <td>1327.61</td>\n",
       "      <td>1342.64</td>\n",
       "    </tr>\n",
       "    <tr>\n",
       "      <th>4</th>\n",
       "      <td>7/14/2016</td>\n",
       "      <td>1342.65</td>\n",
       "      <td>1347.27</td>\n",
       "      <td>1320.35</td>\n",
       "      <td>1335.23</td>\n",
       "    </tr>\n",
       "    <tr>\n",
       "      <th>...</th>\n",
       "      <td>...</td>\n",
       "      <td>...</td>\n",
       "      <td>...</td>\n",
       "      <td>...</td>\n",
       "      <td>...</td>\n",
       "    </tr>\n",
       "    <tr>\n",
       "      <th>1266</th>\n",
       "      <td>5/24/2021</td>\n",
       "      <td>1882.03</td>\n",
       "      <td>1887.07</td>\n",
       "      <td>1875.25</td>\n",
       "      <td>1881.02</td>\n",
       "    </tr>\n",
       "    <tr>\n",
       "      <th>1267</th>\n",
       "      <td>5/25/2021</td>\n",
       "      <td>1881.02</td>\n",
       "      <td>1900.29</td>\n",
       "      <td>1872.78</td>\n",
       "      <td>1899.25</td>\n",
       "    </tr>\n",
       "    <tr>\n",
       "      <th>1268</th>\n",
       "      <td>5/26/2021</td>\n",
       "      <td>1899.25</td>\n",
       "      <td>1912.76</td>\n",
       "      <td>1890.78</td>\n",
       "      <td>1896.67</td>\n",
       "    </tr>\n",
       "    <tr>\n",
       "      <th>1269</th>\n",
       "      <td>5/27/2021</td>\n",
       "      <td>1896.68</td>\n",
       "      <td>1903.70</td>\n",
       "      <td>1888.34</td>\n",
       "      <td>1896.54</td>\n",
       "    </tr>\n",
       "    <tr>\n",
       "      <th>1270</th>\n",
       "      <td>5/28/2021</td>\n",
       "      <td>1896.54</td>\n",
       "      <td>1905.88</td>\n",
       "      <td>1882.38</td>\n",
       "      <td>1903.77</td>\n",
       "    </tr>\n",
       "  </tbody>\n",
       "</table>\n",
       "<p>1271 rows × 5 columns</p>\n",
       "</div>"
      ],
      "text/plain": [
       "           Date     Open     High      Low    Close\n",
       "0      7/8/2016  1360.45  1370.39  1335.47  1366.33\n",
       "1     7/11/2016  1369.70  1375.34  1350.90  1355.40\n",
       "2     7/12/2016  1355.38  1357.86  1330.41  1333.10\n",
       "3     7/13/2016  1333.05  1345.41  1327.61  1342.64\n",
       "4     7/14/2016  1342.65  1347.27  1320.35  1335.23\n",
       "...         ...      ...      ...      ...      ...\n",
       "1266  5/24/2021  1882.03  1887.07  1875.25  1881.02\n",
       "1267  5/25/2021  1881.02  1900.29  1872.78  1899.25\n",
       "1268  5/26/2021  1899.25  1912.76  1890.78  1896.67\n",
       "1269  5/27/2021  1896.68  1903.70  1888.34  1896.54\n",
       "1270  5/28/2021  1896.54  1905.88  1882.38  1903.77\n",
       "\n",
       "[1271 rows x 5 columns]"
      ]
     },
     "execution_count": 43,
     "metadata": {},
     "output_type": "execute_result"
    }
   ],
   "source": [
    "from sklearn.svm import SVR\n",
    "import matplotlib.dates as mdates\n",
    "import matplotlib.pyplot as plt\n",
    "import math\n",
    "import pandas as pd \n",
    "import numpy as np \n",
    "from pandas import concat\n",
    "from sklearn.preprocessing import MinMaxScaler\n",
    "import warnings\n",
    "pd.set_option('mode.chained_assignment', None)\n",
    "warnings.simplefilter(action='ignore', category=FutureWarning)\n",
    "import tensorflow as tf\n",
    "import keras \n",
    "from keras.models import Sequential \n",
    "from keras.layers import Dense, LSTM\n",
    "plt.style.use('fivethirtyeight')\n",
    "df = pd.read_csv('XAU5Y.csv')\n",
    "df2 = pd.read_csv('USGGT10Y.csv')\n",
    "data2 = df2.filter(['Last Price'])\n",
    "data = df.filter(['Close'])\n",
    "df"
   ]
  },
  {
   "cell_type": "code",
   "execution_count": null,
   "metadata": {},
   "outputs": [],
   "source": [
    "#seeing the data \n",
    "plt.figure(figsize=(16,6))\n",
    "plt.title('close price')\n",
    "plt.plot(df['Close'])\n",
    "plt.xlabel('Date',fontsize=18)\n",
    "plt.ylabel('Close price USD', fontsize=18)\n",
    "plt.show()"
   ]
  },
  {
   "cell_type": "code",
   "execution_count": null,
   "metadata": {},
   "outputs": [],
   "source": [
    "close_px = df['Close']\n",
    "mavg = close_px.rolling(window=100).mean()\n",
    "\n",
    "plt.figure(figsize = (12,6))\n",
    "close_px.plot(label='XAU')\n",
    "mavg.plot(label='mavg')\n",
    "plt.xlabel('Date')\n",
    "plt.ylabel('Price')\n",
    "plt.legend()\n",
    "\n",
    "last_px = df2['Last Price']\n",
    "mavg = last_px.rolling(window=100).mean()\n",
    "\n",
    "plt.figure(figsize = (12,6))\n",
    "last_px.plot(label='Real Rates')\n",
    "mavg.plot(label='mavg')\n",
    "plt.xlabel('Date')\n",
    "plt.ylabel('Price')\n",
    "plt.legend()"
   ]
  },
  {
   "cell_type": "code",
   "execution_count": null,
   "metadata": {},
   "outputs": [],
   "source": [
    "#create data frame with close \n",
    "data2 = data.join(data2, how = 'inner')\n",
    "dataset = data2.values\n",
    "#getting rows \n",
    "training_data_length = math.ceil(len(dataset)*.8)\n",
    "training_data_length\n",
    "#scaling \n",
    "scaler = MinMaxScaler(feature_range=(0,1))\n",
    "scaled_data = scaler.fit_transform(dataset)\n",
    "#training_data_length, scaled_data\n",
    "training_data_length"
   ]
  },
  {
   "cell_type": "code",
   "execution_count": null,
   "metadata": {},
   "outputs": [],
   "source": [
    "dates = df.filter(['Date'])\n",
    "df['Date'] = pd.to_datetime(df['Date'])\n",
    "df_reshape = df.filter(['Close'])\n",
    "\n",
    "dates = np.reshape(dates, (len(dates), 1))\n",
    "prices = np.reshape(df_reshape, (len(df_reshape), 1))\n",
    "\n",
    "svr_rbf = SVR(kernel= 'rbf', C= 1e3, gamma= 0.1)\n",
    "svr_rbf.fit(dates, df_reshape)\n",
    "\n",
    "plt.figure(figsize = (12,6))\n",
    "plt.plot(dates, prices, color= 'black', label= 'Data')\n",
    "plt.plot(\"Date\", svr_rbf.predict(dates), color= 'red', label= 'RBF model') \n",
    "plt.xlabel('Date')\n",
    "plt.ylabel('Price')\n",
    "plt.legend()\n",
    "plt.show()"
   ]
  },
  {
   "cell_type": "code",
   "execution_count": null,
   "metadata": {},
   "outputs": [],
   "source": [
    "#create training dataset for scaled data \n",
    "train_data = scaled_data[0:training_data_length, :]\n",
    "x_train = []\n",
    "y_train = []\n",
    "for i in range(120, len(train_data)):\n",
    "    x_train.append(train_data[i-120:(i), :])\n",
    "    y_train.append(train_data[i,:])\n",
    "    if i<= 121:\n",
    "        print(x_train)\n",
    "        print(y_train)\n",
    "        print()\n",
    "#making trainable arrays \n",
    "x_train, y_train = np.array(x_train), np.array(y_train)\n",
    "x_train= np.reshape(x_train, (x_train.shape[0],x_train.shape[1],2))\n",
    "y_train.shape"
   ]
  },
  {
   "cell_type": "code",
   "execution_count": 50,
   "metadata": {},
   "outputs": [
    {
     "name": "stdout",
     "output_type": "stream",
     "text": [
      "Model: \"sequential_6\"\n",
      "_________________________________________________________________\n",
      "Layer (type)                 Output Shape              Param #   \n",
      "=================================================================\n",
      "lstm_16 (LSTM)               (None, 120, 32)           4480      \n",
      "_________________________________________________________________\n",
      "lstm_17 (LSTM)               (None, 120, 32)           8320      \n",
      "_________________________________________________________________\n",
      "lstm_18 (LSTM)               (None, 32)                8320      \n",
      "_________________________________________________________________\n",
      "dense_9 (Dense)              (None, 2)                 66        \n",
      "_________________________________________________________________\n",
      "dense_10 (Dense)             (None, 2)                 6         \n",
      "=================================================================\n",
      "Total params: 21,192\n",
      "Trainable params: 21,192\n",
      "Non-trainable params: 0\n",
      "_________________________________________________________________\n",
      "Train on 860 samples, validate on 244 samples\n",
      "Epoch 1/1\n",
      " - 34s - loss: 0.0084 - val_loss: 1685448.4436\n"
     ]
    },
    {
     "data": {
      "text/plain": [
       "<keras.callbacks.callbacks.History at 0x15d4bab3b88>"
      ]
     },
     "execution_count": 50,
     "metadata": {},
     "output_type": "execute_result"
    }
   ],
   "source": [
    "#build model\n",
    "model = Sequential()\n",
    "model.add(LSTM(32, return_sequences=True, input_shape = (x_train.shape[1],2)))\n",
    "model.add(LSTM(32,return_sequences = True))\n",
    "model.add(LSTM(32, return_sequences= False))\n",
    "model.add(Dense(units=2))\n",
    "model.add(Dense(2))\n",
    "model.summary()\n",
    "model.compile(optimizer='adam', loss='mean_squared_error')\n",
    "\n",
    "\n",
    "\n",
    "#train model \n",
    "model.fit(x_train, y_train, batch_size=2, epochs=1,validation_data=(x_test, y_test), verbose=2, shuffle=False)"
   ]
  },
  {
   "cell_type": "code",
   "execution_count": 51,
   "metadata": {},
   "outputs": [
    {
     "data": {
      "text/plain": [
       "(244, 120, 2)"
      ]
     },
     "execution_count": 51,
     "metadata": {},
     "output_type": "execute_result"
    }
   ],
   "source": [
    "#testing dataset \n",
    "#897 to 1271\n",
    "test_data = scaled_data[training_data_length - 120: , :]\n",
    "x_test = []\n",
    "y_test= dataset[training_data_length:]\n",
    "for i in range(120, len(test_data)):\n",
    "    x_test.append(test_data[i-120:(i), :])\n",
    "#back to numpy array \n",
    "x_test = np.array(x_test)\n",
    "#make data 3d \n",
    "x_test = np.reshape(x_test,(x_test.shape[0], x_test.shape[1], 2))\n",
    "x_test.shape"
   ]
  },
  {
   "cell_type": "code",
   "execution_count": 52,
   "metadata": {},
   "outputs": [
    {
     "ename": "ValueError",
     "evalue": "cannot reshape array of size 58560 into shape (244,2)",
     "output_type": "error",
     "traceback": [
      "\u001b[1;31m---------------------------------------------------------------------------\u001b[0m",
      "\u001b[1;31mValueError\u001b[0m                                Traceback (most recent call last)",
      "\u001b[1;32m<ipython-input-52-4cf659db274d>\u001b[0m in \u001b[0;36m<module>\u001b[1;34m\u001b[0m\n\u001b[0;32m      8\u001b[0m \u001b[1;33m\u001b[0m\u001b[0m\n\u001b[0;32m      9\u001b[0m \u001b[0mpredictions\u001b[0m \u001b[1;33m=\u001b[0m \u001b[0mmodel\u001b[0m\u001b[1;33m.\u001b[0m\u001b[0mpredict\u001b[0m\u001b[1;33m(\u001b[0m\u001b[0mx_test\u001b[0m\u001b[1;33m)\u001b[0m\u001b[1;33m\u001b[0m\u001b[1;33m\u001b[0m\u001b[0m\n\u001b[1;32m---> 10\u001b[1;33m \u001b[0mx_test\u001b[0m \u001b[1;33m=\u001b[0m \u001b[0mx_test\u001b[0m\u001b[1;33m.\u001b[0m\u001b[0mreshape\u001b[0m\u001b[1;33m(\u001b[0m\u001b[1;33m(\u001b[0m\u001b[0mx_test\u001b[0m\u001b[1;33m.\u001b[0m\u001b[0mshape\u001b[0m\u001b[1;33m[\u001b[0m\u001b[1;36m0\u001b[0m\u001b[1;33m]\u001b[0m\u001b[1;33m,\u001b[0m\u001b[0mx_test\u001b[0m\u001b[1;33m.\u001b[0m\u001b[0mshape\u001b[0m\u001b[1;33m[\u001b[0m\u001b[1;36m2\u001b[0m\u001b[1;33m]\u001b[0m\u001b[1;33m)\u001b[0m\u001b[1;33m)\u001b[0m\u001b[1;33m\u001b[0m\u001b[1;33m\u001b[0m\u001b[0m\n\u001b[0m\u001b[0;32m     11\u001b[0m \u001b[0minvert_predictions\u001b[0m \u001b[1;33m=\u001b[0m \u001b[0mconcatenate\u001b[0m\u001b[1;33m(\u001b[0m\u001b[1;33m(\u001b[0m\u001b[0mpredictions\u001b[0m\u001b[1;33m,\u001b[0m \u001b[0mx_test\u001b[0m\u001b[1;33m[\u001b[0m\u001b[1;33m:\u001b[0m\u001b[1;33m,\u001b[0m \u001b[1;36m1\u001b[0m\u001b[1;33m:\u001b[0m\u001b[1;33m]\u001b[0m\u001b[1;33m)\u001b[0m\u001b[1;33m,\u001b[0m \u001b[0maxis\u001b[0m\u001b[1;33m=\u001b[0m\u001b[1;36m1\u001b[0m\u001b[1;33m)\u001b[0m\u001b[1;33m\u001b[0m\u001b[1;33m\u001b[0m\u001b[0m\n\u001b[0;32m     12\u001b[0m \u001b[0minvert_predictions\u001b[0m \u001b[1;33m=\u001b[0m \u001b[0mscaler\u001b[0m\u001b[1;33m.\u001b[0m\u001b[0minverse_transform\u001b[0m\u001b[1;33m(\u001b[0m\u001b[0minvert_predictions\u001b[0m\u001b[1;33m)\u001b[0m\u001b[1;33m\u001b[0m\u001b[1;33m\u001b[0m\u001b[0m\n",
      "\u001b[1;31mValueError\u001b[0m: cannot reshape array of size 58560 into shape (244,2)"
     ]
    }
   ],
   "source": [
    "#prediction\n",
    "#predictions = model.predict(x_test)\n",
    "#trainPredict_extented = np.zeros((len(predictions),2))\n",
    "#trainPredict_extented[: , :] = predictions\n",
    "#predictions = scaler.inverse_transform(predictions)\n",
    "#rmse=np.sqrt(np.mean(((predictions - y_test)**2)))\n",
    "\n",
    "\n",
    "predictions = model.predict(x_test)\n",
    "x_test = x_test.reshape((x_test.shape[0],x_test.shape[2]))\n",
    "invert_predictions = concatenate((predictions, x_test[:, 1:]), axis=1)\n",
    "invert_predictions = scaler.inverse_transform(invert_predictions)\n",
    "invert_predictions = invert_predictions[:,0]\n",
    "y_test = y_test.reshape((len(y_test), 1))\n",
    "invert_y = concatenate((y_test,x_test[:,1:]), axis=1)\n",
    "invert_y = scaler.inverse_transform(invert_y)\n",
    "invert_y = invert_y[:,0]\n",
    "#plots \n",
    "train = data2[:training_data_length]\n",
    "validation = data2[training_data_length:]\n",
    "validation['Predictions', 'Predictions1'] = predictions\n",
    "plt.figure(figsize=(14,6))\n",
    "plt.title('Model')\n",
    "plt.xlabel('Date',fontsize=18)\n",
    "plt.ylabel('Close Price', fontsize=18)\n",
    "plt.plot(train['Close'])\n",
    "plt.plot(validation[['Close','Predictions']])\n",
    "plt.legend(['Train', 'Validations', 'Predictions'], loc='lower right')\n",
    "plt.show(), validation\n",
    "predictions"
   ]
  },
  {
   "cell_type": "code",
   "execution_count": 53,
   "metadata": {},
   "outputs": [
    {
     "ename": "ValueError",
     "evalue": "non-broadcastable output operand with shape (120,1) doesn't match the broadcast shape (120,2)",
     "output_type": "error",
     "traceback": [
      "\u001b[1;31m---------------------------------------------------------------------------\u001b[0m",
      "\u001b[1;31mValueError\u001b[0m                                Traceback (most recent call last)",
      "\u001b[1;32m<ipython-input-53-d6725732bfbb>\u001b[0m in \u001b[0;36m<module>\u001b[1;34m\u001b[0m\n\u001b[0;32m      2\u001b[0m \u001b[0mnew_df\u001b[0m \u001b[1;33m=\u001b[0m \u001b[0mdf\u001b[0m\u001b[1;33m.\u001b[0m\u001b[0mfilter\u001b[0m\u001b[1;33m(\u001b[0m\u001b[1;33m[\u001b[0m\u001b[1;34m'Close'\u001b[0m\u001b[1;33m]\u001b[0m\u001b[1;33m)\u001b[0m\u001b[1;33m\u001b[0m\u001b[1;33m\u001b[0m\u001b[0m\n\u001b[0;32m      3\u001b[0m \u001b[0mlast_120_days\u001b[0m \u001b[1;33m=\u001b[0m \u001b[0mnew_df\u001b[0m\u001b[1;33m[\u001b[0m\u001b[1;33m-\u001b[0m\u001b[1;36m120\u001b[0m\u001b[1;33m:\u001b[0m\u001b[1;33m]\u001b[0m\u001b[1;33m.\u001b[0m\u001b[0mvalues\u001b[0m\u001b[1;33m\u001b[0m\u001b[1;33m\u001b[0m\u001b[0m\n\u001b[1;32m----> 4\u001b[1;33m \u001b[0mlast_120_days_scaled\u001b[0m \u001b[1;33m=\u001b[0m \u001b[0mscaler\u001b[0m\u001b[1;33m.\u001b[0m\u001b[0mtransform\u001b[0m\u001b[1;33m(\u001b[0m\u001b[0mlast_120_days\u001b[0m\u001b[1;33m)\u001b[0m\u001b[1;33m\u001b[0m\u001b[1;33m\u001b[0m\u001b[0m\n\u001b[0m\u001b[0;32m      5\u001b[0m \u001b[0mX_test\u001b[0m \u001b[1;33m=\u001b[0m\u001b[1;33m[\u001b[0m\u001b[1;33m]\u001b[0m\u001b[1;33m\u001b[0m\u001b[1;33m\u001b[0m\u001b[0m\n\u001b[0;32m      6\u001b[0m \u001b[0mX_test\u001b[0m\u001b[1;33m.\u001b[0m\u001b[0mappend\u001b[0m\u001b[1;33m(\u001b[0m\u001b[0mlast_120_days_scaled\u001b[0m\u001b[1;33m)\u001b[0m\u001b[1;33m\u001b[0m\u001b[1;33m\u001b[0m\u001b[0m\n",
      "\u001b[1;32m~\\Anaconda\\lib\\site-packages\\sklearn\\preprocessing\\_data.py\u001b[0m in \u001b[0;36mtransform\u001b[1;34m(self, X)\u001b[0m\n\u001b[0;32m    412\u001b[0m                         force_all_finite=\"allow-nan\")\n\u001b[0;32m    413\u001b[0m \u001b[1;33m\u001b[0m\u001b[0m\n\u001b[1;32m--> 414\u001b[1;33m         \u001b[0mX\u001b[0m \u001b[1;33m*=\u001b[0m \u001b[0mself\u001b[0m\u001b[1;33m.\u001b[0m\u001b[0mscale_\u001b[0m\u001b[1;33m\u001b[0m\u001b[1;33m\u001b[0m\u001b[0m\n\u001b[0m\u001b[0;32m    415\u001b[0m         \u001b[0mX\u001b[0m \u001b[1;33m+=\u001b[0m \u001b[0mself\u001b[0m\u001b[1;33m.\u001b[0m\u001b[0mmin_\u001b[0m\u001b[1;33m\u001b[0m\u001b[1;33m\u001b[0m\u001b[0m\n\u001b[0;32m    416\u001b[0m         \u001b[1;32mreturn\u001b[0m \u001b[0mX\u001b[0m\u001b[1;33m\u001b[0m\u001b[1;33m\u001b[0m\u001b[0m\n",
      "\u001b[1;31mValueError\u001b[0m: non-broadcastable output operand with shape (120,1) doesn't match the broadcast shape (120,2)"
     ]
    }
   ],
   "source": [
    "#attempting to predict the closing price for 5/31/2021\n",
    "new_df = df.filter(['Close'])\n",
    "last_120_days = new_df[-120:].values \n",
    "last_120_days_scaled = scaler.transform(last_120_days)\n",
    "X_test =[]\n",
    "X_test.append(last_120_days_scaled)\n",
    "X_test = np.array(X_test)\n",
    "X_test = np.reshape(X_test, (X_test.shape[0], X_test.shape[1],1))\n",
    "pred_price = model.predict(X_test)\n",
    "pred_price = scaler.inverse_transform(pred_price)\n",
    "print(pred_price)"
   ]
  },
  {
   "cell_type": "code",
   "execution_count": null,
   "metadata": {},
   "outputs": [],
   "source": []
  },
  {
   "cell_type": "code",
   "execution_count": null,
   "metadata": {},
   "outputs": [],
   "source": []
  }
 ],
 "metadata": {
  "kernelspec": {
   "display_name": "Python 3",
   "language": "python",
   "name": "python3"
  },
  "language_info": {
   "codemirror_mode": {
    "name": "ipython",
    "version": 3
   },
   "file_extension": ".py",
   "mimetype": "text/x-python",
   "name": "python",
   "nbconvert_exporter": "python",
   "pygments_lexer": "ipython3",
   "version": "3.7.6"
  }
 },
 "nbformat": 4,
 "nbformat_minor": 4
}
