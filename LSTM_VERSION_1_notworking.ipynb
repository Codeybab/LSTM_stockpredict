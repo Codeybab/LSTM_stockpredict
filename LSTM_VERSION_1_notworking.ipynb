{
 "cells": [
  {
   "cell_type": "code",
   "execution_count": 35,
   "metadata": {},
   "outputs": [
    {
     "data": {
      "text/plain": [
       "(0    1366.33\n",
       " 1    1355.40\n",
       " 2    1333.10\n",
       " 3    1342.64\n",
       " 4    1335.23\n",
       " Name: Close, dtype: float64,\n",
       " [<matplotlib.lines.Line2D at 0x286551d6f08>])"
      ]
     },
     "execution_count": 35,
     "metadata": {},
     "output_type": "execute_result"
    },
    {
     "data": {
      "image/png": "[encoded data removed]",
      "text/plain": [
       "<Figure size 432x288 with 1 Axes>"
      ]
     },
     "metadata": {
      "needs_background": "light"
     },
     "output_type": "display_data"
    }
   ],
   "source": [
    "import matplotlib.pyplot as plt\n",
    "import math\n",
    "import pandas as pd \n",
    "import numpy as np \n",
    "from sklearn.preprocessing import MinMaxScaler\n",
    "import tensorflow \n",
    "import keras \n",
    "from tensorflow.keras.models import Sequential \n",
    "from tensorflow.keras.layers import Dense \n",
    "from tensorflow.keras.layers import LSTM\n",
    "df = pd.read_csv('XAU5Y.csv')\n",
    "df.head()\n",
    "df1 = df.reset_index()['Close']\n",
    "df1.head(),  plt.plot(df1)"
   ]
  },
  {
   "cell_type": "code",
   "execution_count": 36,
   "metadata": {},
   "outputs": [
    {
     "data": {
      "text/plain": [
       "(1271, 1)"
      ]
     },
     "execution_count": 36,
     "metadata": {},
     "output_type": "execute_result"
    }
   ],
   "source": [
    "scaler = MinMaxScaler(feature_range = (0,1))\n",
    "df1 = scaler.fit_transform(np.array(df1).reshape(-1,1))\n",
    "df1.shape"
   ]
  },
  {
   "cell_type": "code",
   "execution_count": null,
   "metadata": {},
   "outputs": [],
   "source": [
    "#train and test \n",
    "training_size = int(len(df1)*0.65)\n",
    "test_size=len(df1)-training_size\n",
    "train_data,test_data=df1[0:training_size,:],df1[training_size:len(df1),:1]\n",
    "train_data"
   ]
  },
  {
   "cell_type": "code",
   "execution_count": 38,
   "metadata": {},
   "outputs": [],
   "source": [
    "# convert an array of values into a dataset matrix\n",
    "def create_dataset(dataset, time_step=1):\n",
    "\tdataX, dataY = [], []\n",
    "\tfor i in range(len(dataset)-time_step-1):\n",
    "\t\ta = dataset[i:(i+time_step), 0] \n",
    "\t\tdataX.append(a)\n",
    "\t\tdataY.append(dataset[i + time_step, 0])\n",
    "\treturn np.array(dataX), np.array(dataY)\n",
    "# reshape into X=t,t+1,t+2,t+3 and Y=t+4\n",
    "time_step = 100\n",
    "X_train, y_train = create_dataset(train_data, time_step)\n",
    "X_test, ytest = create_dataset(test_data, time_step)\n",
    "#reshape again for LSTM\n",
    "X_train =X_train.reshape(X_train.shape[0],X_train.shape[1] , 1)\n",
    "X_test = X_test.reshape(X_test.shape[0],X_test.shape[1] , 1)"
   ]
  },
  {
   "cell_type": "code",
   "execution_count": 39,
   "metadata": {},
   "outputs": [
    {
     "name": "stdout",
     "output_type": "stream",
     "text": [
      "WARNING:tensorflow:Entity <function standard_lstm at 0x000002864B56B9D8> could not be transformed and will be executed as-is. Please report this to the AutoGraph team. When filing the bug, set the verbosity to 10 (on Linux, `export AUTOGRAPH_VERBOSITY=10`) and attach the full output. Cause: converting <function standard_lstm at 0x000002864B56B9D8>: AttributeError: module 'gast' has no attribute 'Index'\n",
      "WARNING: Entity <function standard_lstm at 0x000002864B56B9D8> could not be transformed and will be executed as-is. Please report this to the AutoGraph team. When filing the bug, set the verbosity to 10 (on Linux, `export AUTOGRAPH_VERBOSITY=10`) and attach the full output. Cause: converting <function standard_lstm at 0x000002864B56B9D8>: AttributeError: module 'gast' has no attribute 'Index'\n",
      "WARNING:tensorflow:Entity <function cudnn_lstm at 0x000002864B56BA68> could not be transformed and will be executed as-is. Please report this to the AutoGraph team. When filing the bug, set the verbosity to 10 (on Linux, `export AUTOGRAPH_VERBOSITY=10`) and attach the full output. Cause: converting <function cudnn_lstm at 0x000002864B56BA68>: AttributeError: module 'gast' has no attribute 'Index'\n",
      "WARNING: Entity <function cudnn_lstm at 0x000002864B56BA68> could not be transformed and will be executed as-is. Please report this to the AutoGraph team. When filing the bug, set the verbosity to 10 (on Linux, `export AUTOGRAPH_VERBOSITY=10`) and attach the full output. Cause: converting <function cudnn_lstm at 0x000002864B56BA68>: AttributeError: module 'gast' has no attribute 'Index'\n",
      "WARNING:tensorflow:Entity <function standard_lstm at 0x000002864B56B9D8> could not be transformed and will be executed as-is. Please report this to the AutoGraph team. When filing the bug, set the verbosity to 10 (on Linux, `export AUTOGRAPH_VERBOSITY=10`) and attach the full output. Cause: converting <function standard_lstm at 0x000002864B56B9D8>: AttributeError: module 'gast' has no attribute 'Index'\n",
      "WARNING: Entity <function standard_lstm at 0x000002864B56B9D8> could not be transformed and will be executed as-is. Please report this to the AutoGraph team. When filing the bug, set the verbosity to 10 (on Linux, `export AUTOGRAPH_VERBOSITY=10`) and attach the full output. Cause: converting <function standard_lstm at 0x000002864B56B9D8>: AttributeError: module 'gast' has no attribute 'Index'\n",
      "WARNING:tensorflow:Entity <function cudnn_lstm at 0x000002864B56BA68> could not be transformed and will be executed as-is. Please report this to the AutoGraph team. When filing the bug, set the verbosity to 10 (on Linux, `export AUTOGRAPH_VERBOSITY=10`) and attach the full output. Cause: converting <function cudnn_lstm at 0x000002864B56BA68>: AttributeError: module 'gast' has no attribute 'Index'\n",
      "WARNING: Entity <function cudnn_lstm at 0x000002864B56BA68> could not be transformed and will be executed as-is. Please report this to the AutoGraph team. When filing the bug, set the verbosity to 10 (on Linux, `export AUTOGRAPH_VERBOSITY=10`) and attach the full output. Cause: converting <function cudnn_lstm at 0x000002864B56BA68>: AttributeError: module 'gast' has no attribute 'Index'\n",
      "WARNING:tensorflow:Entity <function standard_lstm at 0x000002864B56B9D8> could not be transformed and will be executed as-is. Please report this to the AutoGraph team. When filing the bug, set the verbosity to 10 (on Linux, `export AUTOGRAPH_VERBOSITY=10`) and attach the full output. Cause: converting <function standard_lstm at 0x000002864B56B9D8>: AttributeError: module 'gast' has no attribute 'Index'\n",
      "WARNING: Entity <function standard_lstm at 0x000002864B56B9D8> could not be transformed and will be executed as-is. Please report this to the AutoGraph team. When filing the bug, set the verbosity to 10 (on Linux, `export AUTOGRAPH_VERBOSITY=10`) and attach the full output. Cause: converting <function standard_lstm at 0x000002864B56B9D8>: AttributeError: module 'gast' has no attribute 'Index'\n",
      "WARNING:tensorflow:Entity <function cudnn_lstm at 0x000002864B56BA68> could not be transformed and will be executed as-is. Please report this to the AutoGraph team. When filing the bug, set the verbosity to 10 (on Linux, `export AUTOGRAPH_VERBOSITY=10`) and attach the full output. Cause: converting <function cudnn_lstm at 0x000002864B56BA68>: AttributeError: module 'gast' has no attribute 'Index'\n",
      "WARNING: Entity <function cudnn_lstm at 0x000002864B56BA68> could not be transformed and will be executed as-is. Please report this to the AutoGraph team. When filing the bug, set the verbosity to 10 (on Linux, `export AUTOGRAPH_VERBOSITY=10`) and attach the full output. Cause: converting <function cudnn_lstm at 0x000002864B56BA68>: AttributeError: module 'gast' has no attribute 'Index'\n",
      "Model: \"sequential_3\"\n",
      "_________________________________________________________________\n",
      "Layer (type)                 Output Shape              Param #   \n",
      "=================================================================\n",
      "lstm_9 (LSTM)                (None, 100, 50)           10400     \n",
      "_________________________________________________________________\n",
      "lstm_10 (LSTM)               (None, 100, 50)           20200     \n",
      "_________________________________________________________________\n",
      "lstm_11 (LSTM)               (None, 50)                20200     \n",
      "_________________________________________________________________\n",
      "dense_3 (Dense)              (None, 1)                 51        \n",
      "=================================================================\n",
      "Total params: 50,851\n",
      "Trainable params: 50,851\n",
      "Non-trainable params: 0\n",
      "_________________________________________________________________\n",
      "Train on 725 samples, validate on 344 samples\n",
      "Epoch 1/100\n",
      "725/725 [==============================] - 4s 6ms/sample - loss: 0.0128 - val_loss: 0.0984\n",
      "Epoch 2/100\n",
      "725/725 [==============================] - 1s 2ms/sample - loss: 0.0029 - val_loss: 0.0420\n",
      "Epoch 3/100\n",
      "725/725 [==============================] - 1s 2ms/sample - loss: 0.0016 - val_loss: 0.0032\n",
      "Epoch 4/100\n",
      "725/725 [==============================] - 1s 2ms/sample - loss: 7.8682e-04 - val_loss: 0.0594\n",
      "Epoch 5/100\n",
      "725/725 [==============================] - 1s 2ms/sample - loss: 7.9122e-04 - val_loss: 0.0112\n",
      "Epoch 6/100\n",
      "725/725 [==============================] - 1s 2ms/sample - loss: 6.7614e-04 - val_loss: 0.0087\n",
      "Epoch 7/100\n",
      "725/725 [==============================] - 1s 2ms/sample - loss: 6.2735e-04 - val_loss: 0.0122\n",
      "Epoch 8/100\n",
      "725/725 [==============================] - 1s 2ms/sample - loss: 5.9439e-04 - val_loss: 0.0081\n",
      "Epoch 9/100\n",
      "725/725 [==============================] - 1s 2ms/sample - loss: 5.6277e-04 - val_loss: 0.0140\n",
      "Epoch 10/100\n",
      "725/725 [==============================] - 1s 2ms/sample - loss: 5.5210e-04 - val_loss: 0.0113\n",
      "Epoch 11/100\n",
      "725/725 [==============================] - 1s 2ms/sample - loss: 5.4802e-04 - val_loss: 0.0068\n",
      "Epoch 12/100\n",
      "725/725 [==============================] - 1s 2ms/sample - loss: 5.2886e-04 - val_loss: 0.0072\n",
      "Epoch 13/100\n",
      "725/725 [==============================] - 1s 2ms/sample - loss: 5.2675e-04 - val_loss: 0.0029\n",
      "Epoch 14/100\n",
      "725/725 [==============================] - 1s 2ms/sample - loss: 4.8938e-04 - val_loss: 0.0044\n",
      "Epoch 15/100\n",
      "725/725 [==============================] - 1s 2ms/sample - loss: 4.7318e-04 - val_loss: 0.0071\n",
      "Epoch 16/100\n",
      "725/725 [==============================] - 1s 2ms/sample - loss: 5.1828e-04 - val_loss: 0.0032\n",
      "Epoch 17/100\n",
      "725/725 [==============================] - 1s 2ms/sample - loss: 4.8339e-04 - val_loss: 0.0056\n",
      "Epoch 18/100\n",
      "725/725 [==============================] - 1s 2ms/sample - loss: 5.0855e-04 - val_loss: 0.0024\n",
      "Epoch 19/100\n",
      "725/725 [==============================] - 1s 2ms/sample - loss: 4.2830e-04 - val_loss: 0.0029\n",
      "Epoch 20/100\n",
      "725/725 [==============================] - 1s 2ms/sample - loss: 4.2834e-04 - val_loss: 0.0036\n",
      "Epoch 21/100\n",
      "725/725 [==============================] - 1s 2ms/sample - loss: 4.1718e-04 - val_loss: 0.0038\n",
      "Epoch 22/100\n",
      "725/725 [==============================] - 1s 2ms/sample - loss: 4.4366e-04 - val_loss: 0.0026\n",
      "Epoch 23/100\n",
      "725/725 [==============================] - 1s 2ms/sample - loss: 4.2298e-04 - val_loss: 0.0023\n",
      "Epoch 24/100\n",
      "725/725 [==============================] - 1s 2ms/sample - loss: 3.9295e-04 - val_loss: 0.0024\n",
      "Epoch 25/100\n",
      "725/725 [==============================] - 1s 2ms/sample - loss: 4.1559e-04 - val_loss: 0.0024\n",
      "Epoch 26/100\n",
      "725/725 [==============================] - 1s 2ms/sample - loss: 3.9493e-04 - val_loss: 0.0024\n",
      "Epoch 27/100\n",
      "725/725 [==============================] - 1s 2ms/sample - loss: 3.9513e-04 - val_loss: 0.0021\n",
      "Epoch 28/100\n",
      "725/725 [==============================] - 1s 2ms/sample - loss: 3.8191e-04 - val_loss: 0.0021\n",
      "Epoch 29/100\n",
      "725/725 [==============================] - 1s 2ms/sample - loss: 3.9160e-04 - val_loss: 0.0055\n",
      "Epoch 30/100\n",
      "725/725 [==============================] - 1s 2ms/sample - loss: 3.9430e-04 - val_loss: 0.0020\n",
      "Epoch 31/100\n",
      "725/725 [==============================] - 1s 2ms/sample - loss: 3.6051e-04 - val_loss: 0.0019\n",
      "Epoch 32/100\n",
      "725/725 [==============================] - 1s 2ms/sample - loss: 3.9414e-04 - val_loss: 0.0024\n",
      "Epoch 33/100\n",
      "725/725 [==============================] - 1s 2ms/sample - loss: 4.0986e-04 - val_loss: 0.0019\n",
      "Epoch 34/100\n",
      "725/725 [==============================] - 1s 2ms/sample - loss: 3.6864e-04 - val_loss: 0.0019\n",
      "Epoch 35/100\n",
      "725/725 [==============================] - 1s 2ms/sample - loss: 3.5081e-04 - val_loss: 0.0022\n",
      "Epoch 36/100\n",
      "725/725 [==============================] - 1s 2ms/sample - loss: 3.6953e-04 - val_loss: 0.0027\n",
      "Epoch 37/100\n",
      "725/725 [==============================] - 1s 2ms/sample - loss: 3.4711e-04 - val_loss: 0.0044\n",
      "Epoch 38/100\n",
      "725/725 [==============================] - 1s 2ms/sample - loss: 3.7437e-04 - val_loss: 0.0031\n",
      "Epoch 39/100\n",
      "725/725 [==============================] - 1s 2ms/sample - loss: 3.5442e-04 - val_loss: 0.0023\n",
      "Epoch 40/100\n",
      "725/725 [==============================] - 1s 2ms/sample - loss: 3.3926e-04 - val_loss: 0.0020\n",
      "Epoch 41/100\n",
      "725/725 [==============================] - 1s 2ms/sample - loss: 3.3632e-04 - val_loss: 0.0016\n",
      "Epoch 42/100\n",
      "725/725 [==============================] - 1s 2ms/sample - loss: 3.1778e-04 - val_loss: 0.0017\n",
      "Epoch 43/100\n",
      "725/725 [==============================] - 1s 2ms/sample - loss: 3.0607e-04 - val_loss: 0.0021\n",
      "Epoch 44/100\n",
      "725/725 [==============================] - 1s 2ms/sample - loss: 3.2689e-04 - val_loss: 0.0015\n",
      "Epoch 45/100\n",
      "725/725 [==============================] - 1s 2ms/sample - loss: 3.0509e-04 - val_loss: 0.0019\n",
      "Epoch 46/100\n",
      "725/725 [==============================] - 1s 2ms/sample - loss: 2.9564e-04 - val_loss: 0.0015\n",
      "Epoch 47/100\n",
      "725/725 [==============================] - 1s 2ms/sample - loss: 2.9487e-04 - val_loss: 0.0015\n",
      "Epoch 48/100\n",
      "725/725 [==============================] - 1s 2ms/sample - loss: 2.9916e-04 - val_loss: 0.0014\n",
      "Epoch 49/100\n",
      "725/725 [==============================] - 1s 2ms/sample - loss: 2.9136e-04 - val_loss: 0.0022\n",
      "Epoch 50/100\n",
      "725/725 [==============================] - 1s 2ms/sample - loss: 3.0773e-04 - val_loss: 0.0015\n",
      "Epoch 51/100\n",
      "725/725 [==============================] - 1s 2ms/sample - loss: 2.8710e-04 - val_loss: 0.0024\n",
      "Epoch 52/100\n",
      "725/725 [==============================] - 1s 2ms/sample - loss: 2.8898e-04 - val_loss: 0.0014\n",
      "Epoch 53/100\n",
      "725/725 [==============================] - 1s 2ms/sample - loss: 2.8803e-04 - val_loss: 0.0020\n",
      "Epoch 54/100\n",
      "725/725 [==============================] - 1s 2ms/sample - loss: 3.0051e-04 - val_loss: 0.0014\n",
      "Epoch 55/100\n",
      "725/725 [==============================] - 1s 2ms/sample - loss: 2.7206e-04 - val_loss: 0.0017\n",
      "Epoch 56/100\n",
      "725/725 [==============================] - 1s 2ms/sample - loss: 2.6128e-04 - val_loss: 0.0014\n",
      "Epoch 57/100\n",
      "725/725 [==============================] - 1s 2ms/sample - loss: 2.5384e-04 - val_loss: 0.0015\n",
      "Epoch 58/100\n",
      "725/725 [==============================] - 1s 2ms/sample - loss: 2.5146e-04 - val_loss: 0.0013\n",
      "Epoch 59/100\n",
      "725/725 [==============================] - 1s 2ms/sample - loss: 2.4918e-04 - val_loss: 0.0013\n",
      "Epoch 60/100\n",
      "725/725 [==============================] - 1s 2ms/sample - loss: 2.6812e-04 - val_loss: 0.0014\n",
      "Epoch 61/100\n",
      "725/725 [==============================] - 1s 2ms/sample - loss: 2.3998e-04 - val_loss: 0.0017\n",
      "Epoch 62/100\n",
      "725/725 [==============================] - 1s 2ms/sample - loss: 2.5061e-04 - val_loss: 0.0014\n",
      "Epoch 63/100\n",
      "725/725 [==============================] - 1s 2ms/sample - loss: 2.3307e-04 - val_loss: 0.0024\n",
      "Epoch 64/100\n",
      "725/725 [==============================] - 1s 2ms/sample - loss: 2.3405e-04 - val_loss: 0.0020\n",
      "Epoch 65/100\n",
      "725/725 [==============================] - 1s 2ms/sample - loss: 2.2783e-04 - val_loss: 0.0012\n",
      "Epoch 66/100\n",
      "725/725 [==============================] - 1s 2ms/sample - loss: 2.1734e-04 - val_loss: 0.0011\n",
      "Epoch 67/100\n",
      "725/725 [==============================] - 1s 2ms/sample - loss: 2.2795e-04 - val_loss: 0.0018\n",
      "Epoch 68/100\n",
      "725/725 [==============================] - 1s 2ms/sample - loss: 2.0770e-04 - val_loss: 0.0031\n",
      "Epoch 69/100\n",
      "725/725 [==============================] - 1s 2ms/sample - loss: 2.5901e-04 - val_loss: 0.0023\n",
      "Epoch 70/100\n",
      "725/725 [==============================] - 1s 2ms/sample - loss: 2.5312e-04 - val_loss: 0.0018\n",
      "Epoch 71/100\n",
      "725/725 [==============================] - 1s 2ms/sample - loss: 2.5507e-04 - val_loss: 0.0025\n",
      "Epoch 72/100\n",
      "725/725 [==============================] - 1s 2ms/sample - loss: 2.4541e-04 - val_loss: 0.0022\n",
      "Epoch 73/100\n",
      "725/725 [==============================] - 1s 2ms/sample - loss: 1.9810e-04 - val_loss: 0.0010\n",
      "Epoch 74/100\n",
      "725/725 [==============================] - 1s 2ms/sample - loss: 1.9424e-04 - val_loss: 0.0010\n",
      "Epoch 75/100\n",
      "725/725 [==============================] - 1s 2ms/sample - loss: 1.8725e-04 - val_loss: 0.0014\n",
      "Epoch 76/100\n",
      "725/725 [==============================] - 1s 2ms/sample - loss: 1.7812e-04 - val_loss: 9.3439e-04\n",
      "Epoch 77/100\n",
      "725/725 [==============================] - 1s 2ms/sample - loss: 1.9198e-04 - val_loss: 0.0012\n",
      "Epoch 78/100\n",
      "725/725 [==============================] - 1s 2ms/sample - loss: 1.7335e-04 - val_loss: 0.0012\n",
      "Epoch 79/100\n",
      "725/725 [==============================] - 1s 2ms/sample - loss: 2.0350e-04 - val_loss: 0.0032\n",
      "Epoch 80/100\n",
      "725/725 [==============================] - 1s 2ms/sample - loss: 2.1823e-04 - val_loss: 0.0011\n",
      "Epoch 81/100\n",
      "725/725 [==============================] - 1s 2ms/sample - loss: 1.9569e-04 - val_loss: 0.0012\n",
      "Epoch 82/100\n",
      "725/725 [==============================] - 1s 2ms/sample - loss: 2.0501e-04 - val_loss: 0.0036\n",
      "Epoch 83/100\n",
      "725/725 [==============================] - 1s 2ms/sample - loss: 1.9951e-04 - val_loss: 0.0015\n",
      "Epoch 84/100\n",
      "725/725 [==============================] - 1s 2ms/sample - loss: 1.6555e-04 - val_loss: 0.0020\n",
      "Epoch 85/100\n",
      "725/725 [==============================] - 1s 2ms/sample - loss: 1.5857e-04 - val_loss: 0.0013\n",
      "Epoch 86/100\n",
      "725/725 [==============================] - 1s 2ms/sample - loss: 1.5924e-04 - val_loss: 9.6608e-04\n",
      "Epoch 87/100\n",
      "725/725 [==============================] - 1s 2ms/sample - loss: 1.6070e-04 - val_loss: 0.0020\n",
      "Epoch 88/100\n",
      "725/725 [==============================] - 1s 2ms/sample - loss: 1.6618e-04 - val_loss: 7.6379e-04\n",
      "Epoch 89/100\n",
      "725/725 [==============================] - 1s 2ms/sample - loss: 1.5936e-04 - val_loss: 0.0022\n",
      "Epoch 90/100\n",
      "725/725 [==============================] - 1s 2ms/sample - loss: 1.5279e-04 - val_loss: 7.4740e-04\n",
      "Epoch 91/100\n",
      "725/725 [==============================] - 1s 2ms/sample - loss: 1.4859e-04 - val_loss: 8.7531e-04\n",
      "Epoch 92/100\n",
      "725/725 [==============================] - 1s 2ms/sample - loss: 1.5320e-04 - val_loss: 7.3954e-04\n",
      "Epoch 93/100\n",
      "725/725 [==============================] - 1s 2ms/sample - loss: 1.6003e-04 - val_loss: 0.0014\n",
      "Epoch 94/100\n",
      "725/725 [==============================] - 1s 2ms/sample - loss: 1.5799e-04 - val_loss: 7.4945e-04\n",
      "Epoch 95/100\n",
      "725/725 [==============================] - 1s 2ms/sample - loss: 1.5391e-04 - val_loss: 8.6650e-04\n",
      "Epoch 96/100\n",
      "725/725 [==============================] - 1s 2ms/sample - loss: 1.4379e-04 - val_loss: 6.7660e-04\n",
      "Epoch 97/100\n",
      "725/725 [==============================] - 1s 2ms/sample - loss: 1.4951e-04 - val_loss: 6.9284e-04\n",
      "Epoch 98/100\n",
      "725/725 [==============================] - 1s 2ms/sample - loss: 1.3984e-04 - val_loss: 9.7018e-04\n",
      "Epoch 99/100\n",
      "725/725 [==============================] - 1s 2ms/sample - loss: 1.3780e-04 - val_loss: 7.4640e-04\n",
      "Epoch 100/100\n",
      "725/725 [==============================] - 1s 2ms/sample - loss: 1.4302e-04 - val_loss: 0.0019\n"
     ]
    },
    {
     "data": {
      "text/plain": [
       "<tensorflow.python.keras.callbacks.History at 0x28669f3a748>"
      ]
     },
     "execution_count": 39,
     "metadata": {},
     "output_type": "execute_result"
    }
   ],
   "source": [
    "#LSTM model creation \n",
    "model = Sequential()\n",
    "model.add(LSTM(50,return_sequences=True,input_shape = (100,1)))\n",
    "model.add(LSTM(50,return_sequences=True))\n",
    "model.add(LSTM(50))\n",
    "model.add(Dense(1))\n",
    "model.compile(loss='mean_squared_error',optimizer='adam')\n",
    "model.summary()\n",
    "model.fit(X_train,y_train,validation_data=(X_test,ytest),epochs=100,batch_size=64,verbose=1)"
   ]
  },
  {
   "cell_type": "code",
   "execution_count": 34,
   "metadata": {},
   "outputs": [
    {
     "ename": "ValueError",
     "evalue": "Error when checking input: expected lstm_6_input to have shape (103, 1) but got array with shape (100, 1)",
     "output_type": "error",
     "traceback": [
      "\u001b[1;31m---------------------------------------------------------------------------\u001b[0m",
      "\u001b[1;31mValueError\u001b[0m                                Traceback (most recent call last)",
      "\u001b[1;32m<ipython-input-34-9486a70c2f98>\u001b[0m in \u001b[0;36m<module>\u001b[1;34m\u001b[0m\n\u001b[1;32m----> 1\u001b[1;33m \u001b[0mtrain_predict\u001b[0m\u001b[1;33m=\u001b[0m\u001b[0mmodel\u001b[0m\u001b[1;33m.\u001b[0m\u001b[0mpredict\u001b[0m\u001b[1;33m(\u001b[0m\u001b[0mX_train\u001b[0m\u001b[1;33m)\u001b[0m\u001b[1;33m\u001b[0m\u001b[1;33m\u001b[0m\u001b[0m\n\u001b[0m\u001b[0;32m      2\u001b[0m \u001b[0mtest_predict\u001b[0m\u001b[1;33m=\u001b[0m\u001b[0mmodel\u001b[0m\u001b[1;33m.\u001b[0m\u001b[0mpredict\u001b[0m\u001b[1;33m(\u001b[0m\u001b[0mX_test\u001b[0m\u001b[1;33m)\u001b[0m\u001b[1;33m\u001b[0m\u001b[1;33m\u001b[0m\u001b[0m\n\u001b[0;32m      3\u001b[0m \u001b[0mtrain_predict\u001b[0m\u001b[1;33m=\u001b[0m\u001b[0mscaler\u001b[0m\u001b[1;33m.\u001b[0m\u001b[0minverse_transform\u001b[0m\u001b[1;33m(\u001b[0m\u001b[0mtrain_predict\u001b[0m\u001b[1;33m)\u001b[0m\u001b[1;33m\u001b[0m\u001b[1;33m\u001b[0m\u001b[0m\n\u001b[0;32m      4\u001b[0m \u001b[0mtest_predict\u001b[0m\u001b[1;33m=\u001b[0m\u001b[0mscaler\u001b[0m\u001b[1;33m.\u001b[0m\u001b[0minverse_transform\u001b[0m\u001b[1;33m(\u001b[0m\u001b[0mtest_predict\u001b[0m\u001b[1;33m)\u001b[0m\u001b[1;33m\u001b[0m\u001b[1;33m\u001b[0m\u001b[0m\n\u001b[0;32m      5\u001b[0m \u001b[1;32mfrom\u001b[0m \u001b[0msklearn\u001b[0m\u001b[1;33m.\u001b[0m\u001b[0mmetrics\u001b[0m \u001b[1;32mimport\u001b[0m \u001b[0mmean_squared_error\u001b[0m\u001b[1;33m\u001b[0m\u001b[1;33m\u001b[0m\u001b[0m\n",
      "\u001b[1;32m~\\Anaconda\\lib\\site-packages\\tensorflow\\python\\keras\\engine\\training.py\u001b[0m in \u001b[0;36mpredict\u001b[1;34m(self, x, batch_size, verbose, steps, callbacks, max_queue_size, workers, use_multiprocessing)\u001b[0m\n\u001b[0;32m    819\u001b[0m         \u001b[0mmax_queue_size\u001b[0m\u001b[1;33m=\u001b[0m\u001b[0mmax_queue_size\u001b[0m\u001b[1;33m,\u001b[0m\u001b[1;33m\u001b[0m\u001b[1;33m\u001b[0m\u001b[0m\n\u001b[0;32m    820\u001b[0m         \u001b[0mworkers\u001b[0m\u001b[1;33m=\u001b[0m\u001b[0mworkers\u001b[0m\u001b[1;33m,\u001b[0m\u001b[1;33m\u001b[0m\u001b[1;33m\u001b[0m\u001b[0m\n\u001b[1;32m--> 821\u001b[1;33m         use_multiprocessing=use_multiprocessing)\n\u001b[0m\u001b[0;32m    822\u001b[0m \u001b[1;33m\u001b[0m\u001b[0m\n\u001b[0;32m    823\u001b[0m   \u001b[1;32mdef\u001b[0m \u001b[0mreset_metrics\u001b[0m\u001b[1;33m(\u001b[0m\u001b[0mself\u001b[0m\u001b[1;33m)\u001b[0m\u001b[1;33m:\u001b[0m\u001b[1;33m\u001b[0m\u001b[1;33m\u001b[0m\u001b[0m\n",
      "\u001b[1;32m~\\Anaconda\\lib\\site-packages\\tensorflow\\python\\keras\\engine\\training_arrays.py\u001b[0m in \u001b[0;36mpredict\u001b[1;34m(self, model, x, batch_size, verbose, steps, callbacks, **kwargs)\u001b[0m\n\u001b[0;32m    703\u001b[0m     \u001b[0mbatch_size\u001b[0m \u001b[1;33m=\u001b[0m \u001b[0mmodel\u001b[0m\u001b[1;33m.\u001b[0m\u001b[0m_validate_or_infer_batch_size\u001b[0m\u001b[1;33m(\u001b[0m\u001b[0mbatch_size\u001b[0m\u001b[1;33m,\u001b[0m \u001b[0msteps\u001b[0m\u001b[1;33m,\u001b[0m \u001b[0mx\u001b[0m\u001b[1;33m)\u001b[0m\u001b[1;33m\u001b[0m\u001b[1;33m\u001b[0m\u001b[0m\n\u001b[0;32m    704\u001b[0m     x, _, _ = model._standardize_user_data(\n\u001b[1;32m--> 705\u001b[1;33m         x, check_steps=True, steps_name='steps', steps=steps)\n\u001b[0m\u001b[0;32m    706\u001b[0m     return predict_loop(\n\u001b[0;32m    707\u001b[0m         \u001b[0mmodel\u001b[0m\u001b[1;33m,\u001b[0m\u001b[1;33m\u001b[0m\u001b[1;33m\u001b[0m\u001b[0m\n",
      "\u001b[1;32m~\\Anaconda\\lib\\site-packages\\tensorflow\\python\\keras\\engine\\training.py\u001b[0m in \u001b[0;36m_standardize_user_data\u001b[1;34m(self, x, y, sample_weight, class_weight, batch_size, check_steps, steps_name, steps, validation_split, shuffle, extract_tensors_from_dataset)\u001b[0m\n\u001b[0;32m   2426\u001b[0m           \u001b[0mfeed_input_shapes\u001b[0m\u001b[1;33m,\u001b[0m\u001b[1;33m\u001b[0m\u001b[1;33m\u001b[0m\u001b[0m\n\u001b[0;32m   2427\u001b[0m           \u001b[0mcheck_batch_axis\u001b[0m\u001b[1;33m=\u001b[0m\u001b[1;32mFalse\u001b[0m\u001b[1;33m,\u001b[0m  \u001b[1;31m# Don't enforce the batch size.\u001b[0m\u001b[1;33m\u001b[0m\u001b[1;33m\u001b[0m\u001b[0m\n\u001b[1;32m-> 2428\u001b[1;33m           exception_prefix='input')\n\u001b[0m\u001b[0;32m   2429\u001b[0m \u001b[1;33m\u001b[0m\u001b[0m\n\u001b[0;32m   2430\u001b[0m     \u001b[1;32mif\u001b[0m \u001b[0my\u001b[0m \u001b[1;32mis\u001b[0m \u001b[1;32mnot\u001b[0m \u001b[1;32mNone\u001b[0m\u001b[1;33m:\u001b[0m\u001b[1;33m\u001b[0m\u001b[1;33m\u001b[0m\u001b[0m\n",
      "\u001b[1;32m~\\Anaconda\\lib\\site-packages\\tensorflow\\python\\keras\\engine\\training_utils.py\u001b[0m in \u001b[0;36mstandardize_input_data\u001b[1;34m(data, names, shapes, check_batch_axis, exception_prefix)\u001b[0m\n\u001b[0;32m    519\u001b[0m                              \u001b[1;34m': expected '\u001b[0m \u001b[1;33m+\u001b[0m \u001b[0mnames\u001b[0m\u001b[1;33m[\u001b[0m\u001b[0mi\u001b[0m\u001b[1;33m]\u001b[0m \u001b[1;33m+\u001b[0m \u001b[1;34m' to have shape '\u001b[0m \u001b[1;33m+\u001b[0m\u001b[1;33m\u001b[0m\u001b[1;33m\u001b[0m\u001b[0m\n\u001b[0;32m    520\u001b[0m                              \u001b[0mstr\u001b[0m\u001b[1;33m(\u001b[0m\u001b[0mshape\u001b[0m\u001b[1;33m)\u001b[0m \u001b[1;33m+\u001b[0m \u001b[1;34m' but got array with shape '\u001b[0m \u001b[1;33m+\u001b[0m\u001b[1;33m\u001b[0m\u001b[1;33m\u001b[0m\u001b[0m\n\u001b[1;32m--> 521\u001b[1;33m                              str(data_shape))\n\u001b[0m\u001b[0;32m    522\u001b[0m   \u001b[1;32mreturn\u001b[0m \u001b[0mdata\u001b[0m\u001b[1;33m\u001b[0m\u001b[1;33m\u001b[0m\u001b[0m\n\u001b[0;32m    523\u001b[0m \u001b[1;33m\u001b[0m\u001b[0m\n",
      "\u001b[1;31mValueError\u001b[0m: Error when checking input: expected lstm_6_input to have shape (103, 1) but got array with shape (100, 1)"
     ]
    }
   ],
   "source": [
    "train_predict=model.predict(X_train)\n",
    "test_predict=model.predict(X_test)\n",
    "train_predict=scaler.inverse_transform(train_predict)\n",
    "test_predict=scaler.inverse_transform(test_predict)\n",
    "from sklearn.metrics import mean_squared_error\n",
    "math.sqrt(mean_squared_error(y_train,train_predict)), math.sqrt(mean_squared_error(ytest,test_predict))"
   ]
  },
  {
   "cell_type": "code",
   "execution_count": 24,
   "metadata": {},
   "outputs": [
    {
     "data": {
      "image/png": "[encoded data removed]",
      "text/plain": [
       "<Figure size 432x288 with 1 Axes>"
      ]
     },
     "metadata": {
      "needs_background": "light"
     },
     "output_type": "display_data"
    }
   ],
   "source": [
    "look_back=100\n",
    "trainPredictPlot = np.empty_like(df1)\n",
    "trainPredictPlot[:, :] = np.nan\n",
    "trainPredictPlot[look_back:len(train_predict)+look_back, :] = train_predict\n",
    "# shift test predictions for plotting\n",
    "testPredictPlot = np.empty_like(df1)\n",
    "testPredictPlot[:, :] = np.nan\n",
    "testPredictPlot[len(train_predict)+(look_back*2)+1:len(df1)-1, :] = test_predict\n",
    "# plot baseline and predictions\n",
    "plt.plot(scaler.inverse_transform(df1))\n",
    "plt.plot(trainPredictPlot)\n",
    "plt.plot(testPredictPlot)\n",
    "plt.show()"
   ]
  },
  {
   "cell_type": "code",
   "execution_count": 25,
   "metadata": {},
   "outputs": [],
   "source": [
    "x_input=test_data[341:].reshape(1,-1)\n",
    "x_input.shape\n",
    "temp_input=list(x_input)\n",
    "temp_input=temp_input[0].tolist()"
   ]
  },
  {
   "cell_type": "code",
   "execution_count": 33,
   "metadata": {},
   "outputs": [
    {
     "name": "stdout",
     "output_type": "stream",
     "text": [
      "0 day input [0.06408529 0.07016981 0.05900595 0.0569849  0.06409598 0.08976004\n",
      " 0.09180247 0.08502288 0.09414432 0.10330852 0.10730784 0.09941614\n",
      " 0.10614226 0.1398905  0.15997263 0.15751315 0.16388639 0.18893024\n",
      " 0.1864066  0.18010822 0.17090124 0.15914924 0.15728859 0.14972839\n",
      " 0.14833825 0.15557766 0.14549382 0.14765388 0.14690534 0.15061594\n",
      " 0.14341931 0.13630823 0.13115403 0.13870354 0.13566662 0.13304675\n",
      " 0.1403717  0.13762351 0.1347363  0.14807092 0.14977116 0.19592369\n",
      " 0.20048976 0.20530177 0.20655289 0.21273365 0.22410069 0.22368365\n",
      " 0.22315967 0.22112794 0.19938834 0.19762394 0.19458702 0.1992921\n",
      " 0.20804996 0.20389024 0.21326832 0.21327901 0.22447496 0.23183199\n",
      " 0.23698618 0.21247701 0.21047735 0.19837247 0.19311134 0.19539972\n",
      " 0.20852047 0.20616793 0.2070127  0.20932247 0.22368365 0.22531973\n",
      " 0.22786475 0.23950982 0.23562813 0.23296548 0.22565123 0.2219834\n",
      " 0.22498824 0.23336114 0.22707344 0.22127764 0.22201548 0.24890928\n",
      " 0.24573335 0.25149707 0.24035459 0.23835493 0.22174815 0.22637837\n",
      " 0.20518414 0.20020104 0.2078254  0.21712862 0.20069293 0.21774883\n",
      " 0.21436973 0.22356602 0.2211921  0.22911587 0.21891441 0.2427606\n",
      " 0.25444844]\n"
     ]
    },
    {
     "ename": "ValueError",
     "evalue": "cannot reshape array of size 103 into shape (1,100,1)",
     "output_type": "error",
     "traceback": [
      "\u001b[1;31m---------------------------------------------------------------------------\u001b[0m",
      "\u001b[1;31mValueError\u001b[0m                                Traceback (most recent call last)",
      "\u001b[1;32m<ipython-input-33-e77f87202e84>\u001b[0m in \u001b[0;36m<module>\u001b[1;34m\u001b[0m\n\u001b[0;32m      7\u001b[0m         \u001b[0mprint\u001b[0m\u001b[1;33m(\u001b[0m\u001b[1;34m\"{} day input {}\"\u001b[0m\u001b[1;33m.\u001b[0m\u001b[0mformat\u001b[0m\u001b[1;33m(\u001b[0m\u001b[0mi\u001b[0m\u001b[1;33m,\u001b[0m\u001b[0mx_input\u001b[0m\u001b[1;33m)\u001b[0m\u001b[1;33m)\u001b[0m\u001b[1;33m\u001b[0m\u001b[1;33m\u001b[0m\u001b[0m\n\u001b[0;32m      8\u001b[0m         \u001b[0mx_input\u001b[0m\u001b[1;33m=\u001b[0m\u001b[0mx_input\u001b[0m\u001b[1;33m.\u001b[0m\u001b[0mreshape\u001b[0m\u001b[1;33m(\u001b[0m\u001b[1;36m1\u001b[0m\u001b[1;33m,\u001b[0m\u001b[1;33m-\u001b[0m\u001b[1;36m1\u001b[0m\u001b[1;33m)\u001b[0m\u001b[1;33m\u001b[0m\u001b[1;33m\u001b[0m\u001b[0m\n\u001b[1;32m----> 9\u001b[1;33m         \u001b[0mx_input\u001b[0m \u001b[1;33m=\u001b[0m \u001b[0mx_input\u001b[0m\u001b[1;33m.\u001b[0m\u001b[0mreshape\u001b[0m\u001b[1;33m(\u001b[0m\u001b[1;33m(\u001b[0m\u001b[1;36m1\u001b[0m\u001b[1;33m,\u001b[0m \u001b[0mn_steps\u001b[0m\u001b[1;33m,\u001b[0m \u001b[1;36m1\u001b[0m\u001b[1;33m)\u001b[0m\u001b[1;33m)\u001b[0m\u001b[1;33m\u001b[0m\u001b[1;33m\u001b[0m\u001b[0m\n\u001b[0m\u001b[0;32m     10\u001b[0m         \u001b[0myhat\u001b[0m \u001b[1;33m=\u001b[0m \u001b[0mmodel\u001b[0m\u001b[1;33m.\u001b[0m\u001b[0mpredict\u001b[0m\u001b[1;33m(\u001b[0m\u001b[0mx_input\u001b[0m\u001b[1;33m,\u001b[0m \u001b[0mverbose\u001b[0m\u001b[1;33m=\u001b[0m\u001b[1;36m0\u001b[0m\u001b[1;33m)\u001b[0m\u001b[1;33m\u001b[0m\u001b[1;33m\u001b[0m\u001b[0m\n\u001b[0;32m     11\u001b[0m         \u001b[0mprint\u001b[0m\u001b[1;33m(\u001b[0m\u001b[1;34m\"{} day output {}\"\u001b[0m\u001b[1;33m.\u001b[0m\u001b[0mformat\u001b[0m\u001b[1;33m(\u001b[0m\u001b[0mi\u001b[0m\u001b[1;33m,\u001b[0m\u001b[0myhat\u001b[0m\u001b[1;33m)\u001b[0m\u001b[1;33m)\u001b[0m\u001b[1;33m\u001b[0m\u001b[1;33m\u001b[0m\u001b[0m\n",
      "\u001b[1;31mValueError\u001b[0m: cannot reshape array of size 103 into shape (1,100,1)"
     ]
    }
   ],
   "source": [
    "lst_output=[]\n",
    "n_steps=100\n",
    "i=0\n",
    "while(i<60):\n",
    "    if(len(temp_input)>100):\n",
    "        x_input=np.array(temp_input[1:])\n",
    "        print(\"{} day input {}\".format(i,x_input))\n",
    "        x_input=x_input.reshape(1,-1)\n",
    "        x_input = x_input.reshape((1, n_steps, 1))\n",
    "        yhat = model.predict(x_input, verbose=0)\n",
    "        print(\"{} day output {}\".format(i,yhat))\n",
    "        temp_input.extend(yhat[0].tolist())\n",
    "        temp_input=temp_input[1:]\n",
    "        lst_output.extend(yhat.tolist())\n",
    "        i=i+1\n",
    "    else: \n",
    "        x_input = x_input.reshape((1, n_steps,1))\n",
    "        yhat = model.predict(x_input, verbose=0)\n",
    "        print(yhat[0])\n",
    "        temp_input.extend(yhat[0].tolist())\n",
    "        i=i+1\n",
    "print(lst_output)"
   ]
  },
  {
   "cell_type": "code",
   "execution_count": 29,
   "metadata": {},
   "outputs": [
    {
     "data": {
      "text/plain": [
       "1271"
      ]
     },
     "execution_count": 29,
     "metadata": {},
     "output_type": "execute_result"
    }
   ],
   "source": [
    "day_new=np.arange(1,101)\n",
    "day_pred=np.arange(101,161)\n",
    "len(df1)"
   ]
  },
  {
   "cell_type": "code",
   "execution_count": 30,
   "metadata": {},
   "outputs": [
    {
     "ename": "ValueError",
     "evalue": "x and y must have same first dimension, but have shapes (100,) and (113, 1)",
     "output_type": "error",
     "traceback": [
      "\u001b[1;31m---------------------------------------------------------------------------\u001b[0m",
      "\u001b[1;31mValueError\u001b[0m                                Traceback (most recent call last)",
      "\u001b[1;32m<ipython-input-30-f7a6cd20cb29>\u001b[0m in \u001b[0;36m<module>\u001b[1;34m\u001b[0m\n\u001b[1;32m----> 1\u001b[1;33m \u001b[0mplt\u001b[0m\u001b[1;33m.\u001b[0m\u001b[0mplot\u001b[0m\u001b[1;33m(\u001b[0m\u001b[0mday_new\u001b[0m\u001b[1;33m,\u001b[0m\u001b[0mscaler\u001b[0m\u001b[1;33m.\u001b[0m\u001b[0minverse_transform\u001b[0m\u001b[1;33m(\u001b[0m\u001b[0mdf1\u001b[0m\u001b[1;33m[\u001b[0m\u001b[1;36m1158\u001b[0m\u001b[1;33m:\u001b[0m\u001b[1;33m]\u001b[0m\u001b[1;33m)\u001b[0m\u001b[1;33m)\u001b[0m\u001b[1;33m\u001b[0m\u001b[1;33m\u001b[0m\u001b[0m\n\u001b[0m\u001b[0;32m      2\u001b[0m \u001b[0mplt\u001b[0m\u001b[1;33m.\u001b[0m\u001b[0mplot\u001b[0m\u001b[1;33m(\u001b[0m\u001b[0mday_pred\u001b[0m\u001b[1;33m,\u001b[0m\u001b[0mscaler\u001b[0m\u001b[1;33m.\u001b[0m\u001b[0minverse_transform\u001b[0m\u001b[1;33m(\u001b[0m\u001b[0mlst_output\u001b[0m\u001b[1;33m)\u001b[0m\u001b[1;33m)\u001b[0m\u001b[1;33m\u001b[0m\u001b[1;33m\u001b[0m\u001b[0m\n",
      "\u001b[1;32m~\\Anaconda\\lib\\site-packages\\matplotlib\\pyplot.py\u001b[0m in \u001b[0;36mplot\u001b[1;34m(scalex, scaley, data, *args, **kwargs)\u001b[0m\n\u001b[0;32m   2794\u001b[0m     return gca().plot(\n\u001b[0;32m   2795\u001b[0m         *args, scalex=scalex, scaley=scaley, **({\"data\": data} if data\n\u001b[1;32m-> 2796\u001b[1;33m         is not None else {}), **kwargs)\n\u001b[0m\u001b[0;32m   2797\u001b[0m \u001b[1;33m\u001b[0m\u001b[0m\n\u001b[0;32m   2798\u001b[0m \u001b[1;33m\u001b[0m\u001b[0m\n",
      "\u001b[1;32m~\\Anaconda\\lib\\site-packages\\matplotlib\\axes\\_axes.py\u001b[0m in \u001b[0;36mplot\u001b[1;34m(self, scalex, scaley, data, *args, **kwargs)\u001b[0m\n\u001b[0;32m   1663\u001b[0m         \"\"\"\n\u001b[0;32m   1664\u001b[0m         \u001b[0mkwargs\u001b[0m \u001b[1;33m=\u001b[0m \u001b[0mcbook\u001b[0m\u001b[1;33m.\u001b[0m\u001b[0mnormalize_kwargs\u001b[0m\u001b[1;33m(\u001b[0m\u001b[0mkwargs\u001b[0m\u001b[1;33m,\u001b[0m \u001b[0mmlines\u001b[0m\u001b[1;33m.\u001b[0m\u001b[0mLine2D\u001b[0m\u001b[1;33m.\u001b[0m\u001b[0m_alias_map\u001b[0m\u001b[1;33m)\u001b[0m\u001b[1;33m\u001b[0m\u001b[1;33m\u001b[0m\u001b[0m\n\u001b[1;32m-> 1665\u001b[1;33m         \u001b[0mlines\u001b[0m \u001b[1;33m=\u001b[0m \u001b[1;33m[\u001b[0m\u001b[1;33m*\u001b[0m\u001b[0mself\u001b[0m\u001b[1;33m.\u001b[0m\u001b[0m_get_lines\u001b[0m\u001b[1;33m(\u001b[0m\u001b[1;33m*\u001b[0m\u001b[0margs\u001b[0m\u001b[1;33m,\u001b[0m \u001b[0mdata\u001b[0m\u001b[1;33m=\u001b[0m\u001b[0mdata\u001b[0m\u001b[1;33m,\u001b[0m \u001b[1;33m**\u001b[0m\u001b[0mkwargs\u001b[0m\u001b[1;33m)\u001b[0m\u001b[1;33m]\u001b[0m\u001b[1;33m\u001b[0m\u001b[1;33m\u001b[0m\u001b[0m\n\u001b[0m\u001b[0;32m   1666\u001b[0m         \u001b[1;32mfor\u001b[0m \u001b[0mline\u001b[0m \u001b[1;32min\u001b[0m \u001b[0mlines\u001b[0m\u001b[1;33m:\u001b[0m\u001b[1;33m\u001b[0m\u001b[1;33m\u001b[0m\u001b[0m\n\u001b[0;32m   1667\u001b[0m             \u001b[0mself\u001b[0m\u001b[1;33m.\u001b[0m\u001b[0madd_line\u001b[0m\u001b[1;33m(\u001b[0m\u001b[0mline\u001b[0m\u001b[1;33m)\u001b[0m\u001b[1;33m\u001b[0m\u001b[1;33m\u001b[0m\u001b[0m\n",
      "\u001b[1;32m~\\Anaconda\\lib\\site-packages\\matplotlib\\axes\\_base.py\u001b[0m in \u001b[0;36m__call__\u001b[1;34m(self, *args, **kwargs)\u001b[0m\n\u001b[0;32m    223\u001b[0m                 \u001b[0mthis\u001b[0m \u001b[1;33m+=\u001b[0m \u001b[0margs\u001b[0m\u001b[1;33m[\u001b[0m\u001b[1;36m0\u001b[0m\u001b[1;33m]\u001b[0m\u001b[1;33m,\u001b[0m\u001b[1;33m\u001b[0m\u001b[1;33m\u001b[0m\u001b[0m\n\u001b[0;32m    224\u001b[0m                 \u001b[0margs\u001b[0m \u001b[1;33m=\u001b[0m \u001b[0margs\u001b[0m\u001b[1;33m[\u001b[0m\u001b[1;36m1\u001b[0m\u001b[1;33m:\u001b[0m\u001b[1;33m]\u001b[0m\u001b[1;33m\u001b[0m\u001b[1;33m\u001b[0m\u001b[0m\n\u001b[1;32m--> 225\u001b[1;33m             \u001b[1;32myield\u001b[0m \u001b[1;32mfrom\u001b[0m \u001b[0mself\u001b[0m\u001b[1;33m.\u001b[0m\u001b[0m_plot_args\u001b[0m\u001b[1;33m(\u001b[0m\u001b[0mthis\u001b[0m\u001b[1;33m,\u001b[0m \u001b[0mkwargs\u001b[0m\u001b[1;33m)\u001b[0m\u001b[1;33m\u001b[0m\u001b[1;33m\u001b[0m\u001b[0m\n\u001b[0m\u001b[0;32m    226\u001b[0m \u001b[1;33m\u001b[0m\u001b[0m\n\u001b[0;32m    227\u001b[0m     \u001b[1;32mdef\u001b[0m \u001b[0mget_next_color\u001b[0m\u001b[1;33m(\u001b[0m\u001b[0mself\u001b[0m\u001b[1;33m)\u001b[0m\u001b[1;33m:\u001b[0m\u001b[1;33m\u001b[0m\u001b[1;33m\u001b[0m\u001b[0m\n",
      "\u001b[1;32m~\\Anaconda\\lib\\site-packages\\matplotlib\\axes\\_base.py\u001b[0m in \u001b[0;36m_plot_args\u001b[1;34m(self, tup, kwargs)\u001b[0m\n\u001b[0;32m    389\u001b[0m             \u001b[0mx\u001b[0m\u001b[1;33m,\u001b[0m \u001b[0my\u001b[0m \u001b[1;33m=\u001b[0m \u001b[0mindex_of\u001b[0m\u001b[1;33m(\u001b[0m\u001b[0mtup\u001b[0m\u001b[1;33m[\u001b[0m\u001b[1;33m-\u001b[0m\u001b[1;36m1\u001b[0m\u001b[1;33m]\u001b[0m\u001b[1;33m)\u001b[0m\u001b[1;33m\u001b[0m\u001b[1;33m\u001b[0m\u001b[0m\n\u001b[0;32m    390\u001b[0m \u001b[1;33m\u001b[0m\u001b[0m\n\u001b[1;32m--> 391\u001b[1;33m         \u001b[0mx\u001b[0m\u001b[1;33m,\u001b[0m \u001b[0my\u001b[0m \u001b[1;33m=\u001b[0m \u001b[0mself\u001b[0m\u001b[1;33m.\u001b[0m\u001b[0m_xy_from_xy\u001b[0m\u001b[1;33m(\u001b[0m\u001b[0mx\u001b[0m\u001b[1;33m,\u001b[0m \u001b[0my\u001b[0m\u001b[1;33m)\u001b[0m\u001b[1;33m\u001b[0m\u001b[1;33m\u001b[0m\u001b[0m\n\u001b[0m\u001b[0;32m    392\u001b[0m \u001b[1;33m\u001b[0m\u001b[0m\n\u001b[0;32m    393\u001b[0m         \u001b[1;32mif\u001b[0m \u001b[0mself\u001b[0m\u001b[1;33m.\u001b[0m\u001b[0mcommand\u001b[0m \u001b[1;33m==\u001b[0m \u001b[1;34m'plot'\u001b[0m\u001b[1;33m:\u001b[0m\u001b[1;33m\u001b[0m\u001b[1;33m\u001b[0m\u001b[0m\n",
      "\u001b[1;32m~\\Anaconda\\lib\\site-packages\\matplotlib\\axes\\_base.py\u001b[0m in \u001b[0;36m_xy_from_xy\u001b[1;34m(self, x, y)\u001b[0m\n\u001b[0;32m    268\u001b[0m         \u001b[1;32mif\u001b[0m \u001b[0mx\u001b[0m\u001b[1;33m.\u001b[0m\u001b[0mshape\u001b[0m\u001b[1;33m[\u001b[0m\u001b[1;36m0\u001b[0m\u001b[1;33m]\u001b[0m \u001b[1;33m!=\u001b[0m \u001b[0my\u001b[0m\u001b[1;33m.\u001b[0m\u001b[0mshape\u001b[0m\u001b[1;33m[\u001b[0m\u001b[1;36m0\u001b[0m\u001b[1;33m]\u001b[0m\u001b[1;33m:\u001b[0m\u001b[1;33m\u001b[0m\u001b[1;33m\u001b[0m\u001b[0m\n\u001b[0;32m    269\u001b[0m             raise ValueError(\"x and y must have same first dimension, but \"\n\u001b[1;32m--> 270\u001b[1;33m                              \"have shapes {} and {}\".format(x.shape, y.shape))\n\u001b[0m\u001b[0;32m    271\u001b[0m         \u001b[1;32mif\u001b[0m \u001b[0mx\u001b[0m\u001b[1;33m.\u001b[0m\u001b[0mndim\u001b[0m \u001b[1;33m>\u001b[0m \u001b[1;36m2\u001b[0m \u001b[1;32mor\u001b[0m \u001b[0my\u001b[0m\u001b[1;33m.\u001b[0m\u001b[0mndim\u001b[0m \u001b[1;33m>\u001b[0m \u001b[1;36m2\u001b[0m\u001b[1;33m:\u001b[0m\u001b[1;33m\u001b[0m\u001b[1;33m\u001b[0m\u001b[0m\n\u001b[0;32m    272\u001b[0m             raise ValueError(\"x and y can be no greater than 2-D, but have \"\n",
      "\u001b[1;31mValueError\u001b[0m: x and y must have same first dimension, but have shapes (100,) and (113, 1)"
     ]
    },
    {
     "data": {
      "image/png": "[encoded data removed]",
      "text/plain": [
       "<Figure size 432x288 with 1 Axes>"
      ]
     },
     "metadata": {
      "needs_background": "light"
     },
     "output_type": "display_data"
    }
   ],
   "source": [
    "plt.plot(day_new,scaler.inverse_transform(df1[1158:]))\n",
    "plt.plot(day_pred,scaler.inverse_transform(lst_output))"
   ]
  },
  {
   "cell_type": "code",
   "execution_count": 31,
   "metadata": {},
   "outputs": [
    {
     "data": {
      "text/plain": [
       "[<matplotlib.lines.Line2D at 0x28668f6df88>]"
      ]
     },
     "execution_count": 31,
     "metadata": {},
     "output_type": "execute_result"
    },
    {
     "data": {
      "image/png": "[encoded data removed]",
      "text/plain": [
       "<Figure size 432x288 with 1 Axes>"
      ]
     },
     "metadata": {
      "needs_background": "light"
     },
     "output_type": "display_data"
    }
   ],
   "source": [
    "df3 = df1.tolist()\n",
    "df3.extend(lst_output)\n",
    "plt.plot(df3[1200:])\n",
    "df3=scaler.inverse_transform(df3).tolist()\n",
    "plt.plot(df3)"
   ]
  },
  {
   "cell_type": "code",
   "execution_count": 32,
   "metadata": {},
   "outputs": [
    {
     "data": {
      "text/plain": [
       "[<matplotlib.lines.Line2D at 0x28668f83b88>]"
      ]
     },
     "execution_count": 32,
     "metadata": {},
     "output_type": "execute_result"
    },
    {
     "data": {
      "image/png": "[encoded data removed]",
      "text/plain": [
       "<Figure size 432x288 with 1 Axes>"
      ]
     },
     "metadata": {
      "needs_background": "light"
     },
     "output_type": "display_data"
    }
   ],
   "source": [
    "df3=scaler.inverse_transform(df3).tolist()\n",
    "plt.plot(df3)"
   ]
  },
  {
   "cell_type": "code",
   "execution_count": null,
   "metadata": {},
   "outputs": [],
   "source": []
  }
 ],
 "metadata": {
  "kernelspec": {
   "display_name": "Python 3",
   "language": "python",
   "name": "python3"
  },
  "language_info": {
   "codemirror_mode": {
    "name": "ipython",
    "version": 3
   },
   "file_extension": ".py",
   "mimetype": "text/x-python",
   "name": "python",
   "nbconvert_exporter": "python",
   "pygments_lexer": "ipython3",
   "version": "3.7.6"
  }
 },
 "nbformat": 4,
 "nbformat_minor": 4
}
